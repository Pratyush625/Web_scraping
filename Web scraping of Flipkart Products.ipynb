{
 "cells": [
  {
   "cell_type": "code",
   "execution_count": 1,
   "metadata": {
    "scrolled": true
   },
   "outputs": [
    {
     "name": "stdout",
     "output_type": "stream",
     "text": [
      "{'Name': 'Apple iPhone 7 Plus (Black, 32 GB)', 'Rating': '4.5', 'Price': '₹32,999'}\n",
      "{'Name': 'Apple iPhone 7 (Black, 32 GB)', 'Rating': '4.5', 'Price': '₹27,999'}\n",
      "{'Name': 'Apple iPhone 11 (White, 128 GB)', 'Rating': '4.7', 'Price': '₹69,900'}\n",
      "{'Name': 'Apple iPhone 11 (Black, 128 GB)', 'Rating': '4.7', 'Price': '₹69,900'}\n",
      "{'Name': 'Apple iPhone 11 (White, 64 GB)', 'Rating': '4.7', 'Price': '₹64,900'}\n",
      "{'Name': 'Apple iPhone 11 (Black, 64 GB)', 'Rating': '4.7', 'Price': '₹64,900'}\n",
      "{'Name': 'Apple iPhone 8 (Gold, 64 GB)', 'Rating': '4.5', 'Price': '₹36,999'}\n",
      "{'Name': 'Apple iPhone 11 (Purple, 64 GB)', 'Rating': '4.7', 'Price': '₹64,900'}\n",
      "{'Name': 'Apple iPhone 8 (Space Grey, 64 GB)', 'Rating': '4.5', 'Price': '₹36,999'}\n",
      "{'Name': 'Apple iPhone 7 (Gold, 32 GB)', 'Rating': '4.5', 'Price': '₹27,999'}\n",
      "{'Name': 'Apple iPhone 6s (Space Grey, 32 GB)', 'Rating': '4.5', 'Price': '₹23,999'}\n",
      "{'Name': 'Apple iPhone 7 (Rose Gold, 32 GB)', 'Rating': '4.5', 'Price': '₹27,999'}\n",
      "{'Name': 'Apple iPhone 7 Plus (Rose Gold, 32 GB)', 'Rating': '4.5', 'Price': '₹49,879'}\n",
      "{'Name': 'Apple iPhone XR (Black, 64 GB)', 'Rating': '4.6', 'Price': '₹47,900'}\n",
      "{'Name': 'Apple iPhone 7 Plus (Gold, 32 GB)', 'Rating': '4.5', 'Price': '₹32,999'}\n",
      "{'Name': 'Apple iPhone XR (White, 64 GB)', 'Rating': '4.6', 'Price': '₹50,999'}\n",
      "{'Name': 'Apple iPhone 8 (Silver, 64 GB)', 'Rating': '4.5', 'Price': '₹36,999'}\n",
      "{'Name': 'Apple iPhone 6s (Gold, 32 GB)', 'Rating': '4.5', 'Price': '₹23,949'}\n",
      "{'Name': 'Apple iPhone 11 (Red, 64 GB)', 'Rating': '4.7', 'Price': '₹64,900'}\n",
      "{'Name': 'Apple iPhone 6s (Rose Gold, 32 GB)', 'Rating': '4.5', 'Price': '₹25,990'}\n",
      "{'Name': 'Apple iPhone 11 Pro (Midnight Green, 256 GB)', 'Rating': '4.7', 'Price': '₹1,13,900'}\n",
      "{'Name': 'Apple iPhone 11 Pro (Midnight Green, 64 GB)', 'Rating': '4.7', 'Price': '₹99,900'}\n",
      "{'Name': 'Apple iPhone XR (White, 128 GB)', 'Rating': '4.6', 'Price': '₹54,490'}\n",
      "{'Name': 'Apple iPhone XR (Black, 128 GB)', 'Rating': '4.6', 'Price': '₹59,999'}\n"
     ]
    }
   ],
   "source": [
    "from bs4 import BeautifulSoup\n",
    "import requests\n",
    "\n",
    "content = requests.get('https://www.flipkart.com/search?q=iphone&otracker=search&otracker1=search&marketplace=FLIPKART&as-show=on&as=off').text\n",
    "soup = BeautifulSoup(content, 'html.parser')\n",
    "p_names = soup.find_all('div', attrs={'class':'_3wU53n'})\n",
    "ratings = soup.find_all('div', attrs={'class': 'hGSR34'})\n",
    "prices= soup.find_all('div',attrs={'class':'_2rQ-NK'})\n",
    "\n",
    "for p_name, rating, price in zip(p_names, ratings[:24], prices):\n",
    "    product_details = {'Name':p_name.text, 'Rating':rating.text, 'Price':price.text}\n",
    "    print(product_details)"
   ]
  }
 ],
 "metadata": {
  "kernelspec": {
   "display_name": "Python 3",
   "language": "python",
   "name": "python3"
  },
  "language_info": {
   "codemirror_mode": {
    "name": "ipython",
    "version": 3
   },
   "file_extension": ".py",
   "mimetype": "text/x-python",
   "name": "python",
   "nbconvert_exporter": "python",
   "pygments_lexer": "ipython3",
   "version": "3.6.5"
  }
 },
 "nbformat": 4,
 "nbformat_minor": 2
}
